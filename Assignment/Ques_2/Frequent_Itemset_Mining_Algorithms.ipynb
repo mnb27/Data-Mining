{
 "cells": [
  {
   "cell_type": "markdown",
   "source": [
    "## Dataset Loading and Parsing"
   ],
   "metadata": {}
  },
  {
   "cell_type": "code",
   "execution_count": 1,
   "source": [
    "datasets_dirs = [\"datasets/test.txt\", \"datasets/chess.txt\", \"datasets/liquor_11frequent.txt\", \r\n",
    "                 \"datasets/t20i6d100k.txt\", \"datasets/BMS2.txt\"]\r\n",
    "\r\n",
    "import dataset_info\r\n",
    "dataset_info.main(datasets_dirs[0])"
   ],
   "outputs": [
    {
     "output_type": "stream",
     "name": "stdout",
     "text": [
      "Total transactions :  9\n",
      "Total unique items :  5\n",
      "Transaction width Mean: 2.56\n",
      "For 1-itemset support count ranges form : 2 to 7\n",
      "Most 1-Frequent itemset(s) : ['2']\n",
      "Time taken to process data:  0.0  seconds\n"
     ]
    }
   ],
   "metadata": {}
  },
  {
   "cell_type": "markdown",
   "source": [
    "## Apriori Algorithm"
   ],
   "metadata": {}
  },
  {
   "cell_type": "code",
   "execution_count": 2,
   "source": [
    "import apriori_algo # this has been implemented from scratch\r\n",
    "apriori_algo.main(datasets_dirs[0])"
   ],
   "outputs": [
    {
     "output_type": "stream",
     "name": "stdout",
     "text": [
      "..................APRIORI ALGORITHM STARTED.................\n",
      "Dataset Taken : datasets/test.txt\n",
      "Total Transactions : 9\n",
      "Support Count Taken : 4170.48\n",
      "Time Taken: 0.0010 seconds\n",
      "Memory used:  65.015625  MB\n"
     ]
    }
   ],
   "metadata": {}
  },
  {
   "cell_type": "markdown",
   "source": [
    "## Eclat Algorithm"
   ],
   "metadata": {}
  },
  {
   "cell_type": "code",
   "execution_count": 3,
   "source": [
    "import eclat_algo # this has been implemented from scratch\r\n",
    "eclat_algo.main(datasets_dirs[0])"
   ],
   "outputs": [
    {
     "output_type": "stream",
     "name": "stdout",
     "text": [
      "..................ECLAT ALGORITHM STARTED.................\n",
      "Dataset Taken : datasets/test.txt\n",
      "Total Transactions : 9\n",
      "Support Count Taken : 4170.48\n",
      "Time taken:  0.0  seconds\n",
      "Memory used:  65.03515625  MB\n"
     ]
    }
   ],
   "metadata": {}
  },
  {
   "cell_type": "markdown",
   "source": [
    "## FP Growth Algorithm"
   ],
   "metadata": {}
  },
  {
   "cell_type": "code",
   "execution_count": 4,
   "source": [
    "import FP_growth_algo # this has been implemented from scratch\r\n",
    "FP_growth_algo.main(datasets_dirs[0])"
   ],
   "outputs": [
    {
     "output_type": "stream",
     "name": "stdout",
     "text": [
      "..................FP GROWTH ALGORITHM STARTED.................\n",
      "Dataset Taken : datasets/test.txt\n",
      "Support Count Taken : 0.2222222222222222\n",
      "Count of 1-Frequent Itemsets:  5 ---> \n",
      "[{'1', 6}, {'2', 7}, {'3', 6}, {2, '4'}, {'5', 2}]\n",
      "\n",
      "Count of 2-Frequent Itemsets:  8 ---> \n",
      "[{'1,2', 4}, {'1,3', 4}, {1, '1,4'}, {2, '1,5'}, {4, '2,3'}, {'2,4', 2}, {'2,5', 2}, {'5,3', 1}]\n",
      "\n",
      "Count of 3-Frequent Itemsets:  5 ---> \n",
      "[{2, '1,2,3'}, {1, '1,2,4'}, {'1,2,5', 2}, {'1,5,3', 1}, {'2,5,3', 1}]\n",
      "\n",
      "Count of 4-Frequent Itemsets:  1 ---> \n",
      "[{'1,2,5,3', 1}]\n",
      "\n",
      "Time Taken: 0.0010 seconds\n",
      "Memory used:  65.12890625  MB\n"
     ]
    }
   ],
   "metadata": {}
  },
  {
   "cell_type": "markdown",
   "source": [
    "## Comparing Algorithms"
   ],
   "metadata": {}
  },
  {
   "cell_type": "code",
   "execution_count": 5,
   "source": [
    "import dataset_info\r\n",
    "getDataInfo = dataset_info.parse_transaction_dataset(\"datasets/test.txt\")\r\n",
    "DATASET = getDataInfo"
   ],
   "outputs": [],
   "metadata": {}
  },
  {
   "cell_type": "code",
   "execution_count": 6,
   "source": [
    "import comparison"
   ],
   "outputs": [],
   "metadata": {}
  },
  {
   "cell_type": "code",
   "execution_count": 7,
   "source": [
    "comparison.compare_algos_on_dataset(dataset=DATASET, min_sup_lower=0.01, min_sup_upper=0.018, step=0.001)"
   ],
   "outputs": [
    {
     "output_type": "stream",
     "name": "stdout",
     "text": [
      "..................FP GROWTH ALGORITHM STARTED.................\n",
      "Dataset Taken : datasets/test.txt\n",
      "Support Count Taken : 2\n",
      "Count of 1-Frequent Itemsets:  5 ---> \n",
      "[{'1', 6}, {'2', 7}, {'3', 6}, {2, '4'}, {'5', 2}]\n",
      "\n",
      "Count of 2-Frequent Itemsets:  6 ---> \n",
      "[{'1,2', 4}, {'1,3', 4}, {2, '1,5'}, {4, '2,3'}, {'2,4', 2}, {'2,5', 2}]\n",
      "\n",
      "Count of 3-Frequent Itemsets:  2 ---> \n",
      "[{2, '1,2,3'}, {'1,2,5', 2}]\n",
      "\n",
      "Time Taken: 0.0020 seconds\n",
      "Memory used:  83.95703125  MB\n"
     ]
    },
    {
     "output_type": "error",
     "ename": "TypeError",
     "evalue": "cannot unpack non-iterable NoneType object",
     "traceback": [
      "\u001b[1;31m---------------------------------------------------------------------------\u001b[0m",
      "\u001b[1;31mTypeError\u001b[0m                                 Traceback (most recent call last)",
      "\u001b[1;32m<ipython-input-7-2e3c4909a8a5>\u001b[0m in \u001b[0;36m<module>\u001b[1;34m\u001b[0m\n\u001b[1;32m----> 1\u001b[1;33m \u001b[0mcomparison\u001b[0m\u001b[1;33m.\u001b[0m\u001b[0mcompare_algos_on_dataset\u001b[0m\u001b[1;33m(\u001b[0m\u001b[0mdataset\u001b[0m\u001b[1;33m=\u001b[0m\u001b[0mDATASET\u001b[0m\u001b[1;33m,\u001b[0m \u001b[0mmin_sup_lower\u001b[0m\u001b[1;33m=\u001b[0m\u001b[1;36m0.01\u001b[0m\u001b[1;33m,\u001b[0m \u001b[0mmin_sup_upper\u001b[0m\u001b[1;33m=\u001b[0m\u001b[1;36m0.018\u001b[0m\u001b[1;33m,\u001b[0m \u001b[0mstep\u001b[0m\u001b[1;33m=\u001b[0m\u001b[1;36m0.001\u001b[0m\u001b[1;33m)\u001b[0m\u001b[1;33m\u001b[0m\u001b[1;33m\u001b[0m\u001b[0m\n\u001b[0m",
      "\u001b[1;32mc:\\Users\\2018c\\Downloads\\DataMining\\Assignment\\Ques_2\\comparison.py\u001b[0m in \u001b[0;36mcompare_algos_on_dataset\u001b[1;34m(dataset, min_sup_lower, min_sup_upper, step)\u001b[0m\n\u001b[0;32m     58\u001b[0m     \u001b[0mmin_sup\u001b[0m \u001b[1;33m=\u001b[0m \u001b[0mmin_sup_lower\u001b[0m\u001b[1;33m\u001b[0m\u001b[1;33m\u001b[0m\u001b[0m\n\u001b[0;32m     59\u001b[0m     \u001b[1;32mwhile\u001b[0m\u001b[1;33m(\u001b[0m\u001b[0mmin_sup\u001b[0m \u001b[1;33m<=\u001b[0m \u001b[0mmin_sup_upper\u001b[0m\u001b[1;33m)\u001b[0m\u001b[1;33m:\u001b[0m\u001b[1;33m\u001b[0m\u001b[1;33m\u001b[0m\u001b[0m\n\u001b[1;32m---> 60\u001b[1;33m         \u001b[0mtime_list\u001b[0m\u001b[1;33m,\u001b[0m \u001b[0ml\u001b[0m \u001b[1;33m=\u001b[0m \u001b[0mcompare_algos_given_min_sup\u001b[0m\u001b[1;33m(\u001b[0m\u001b[0mdataset\u001b[0m\u001b[1;33m,\u001b[0m \u001b[0mmin_sup\u001b[0m\u001b[1;33m,\u001b[0m \u001b[1;32mFalse\u001b[0m\u001b[1;33m)\u001b[0m\u001b[1;33m\u001b[0m\u001b[1;33m\u001b[0m\u001b[0m\n\u001b[0m\u001b[0;32m     61\u001b[0m         \u001b[0mmin_sup_list\u001b[0m\u001b[1;33m.\u001b[0m\u001b[0mappend\u001b[0m\u001b[1;33m(\u001b[0m\u001b[0mmin_sup\u001b[0m\u001b[1;33m)\u001b[0m\u001b[1;33m\u001b[0m\u001b[1;33m\u001b[0m\u001b[0m\n\u001b[0;32m     62\u001b[0m         \u001b[0mApriori_list\u001b[0m\u001b[1;33m.\u001b[0m\u001b[0mappend\u001b[0m\u001b[1;33m(\u001b[0m\u001b[0mtime_list\u001b[0m\u001b[1;33m[\u001b[0m\u001b[1;36m0\u001b[0m\u001b[1;33m]\u001b[0m\u001b[1;33m)\u001b[0m\u001b[1;33m\u001b[0m\u001b[1;33m\u001b[0m\u001b[0m\n",
      "\u001b[1;32mc:\\Users\\2018c\\Downloads\\DataMining\\Assignment\\Ques_2\\comparison.py\u001b[0m in \u001b[0;36mcompare_algos_given_min_sup\u001b[1;34m(dataset, min_sup, print_result)\u001b[0m\n\u001b[0;32m     26\u001b[0m             \u001b[0mfreqItemSets\u001b[0m\u001b[1;33m,\u001b[0m \u001b[0mlvl\u001b[0m \u001b[1;33m=\u001b[0m \u001b[0mAprioriInst\u001b[0m\u001b[1;33m.\u001b[0m\u001b[0mApriori_Algo\u001b[0m\u001b[1;33m(\u001b[0m\u001b[1;33m)\u001b[0m\u001b[1;33m\u001b[0m\u001b[1;33m\u001b[0m\u001b[0m\n\u001b[0;32m     27\u001b[0m         \u001b[1;32melif\u001b[0m \u001b[0malgo\u001b[0m \u001b[1;33m==\u001b[0m \u001b[1;34m'FP_growth'\u001b[0m\u001b[1;33m:\u001b[0m\u001b[1;33m\u001b[0m\u001b[1;33m\u001b[0m\u001b[0m\n\u001b[1;32m---> 28\u001b[1;33m             \u001b[0mfreqItemSets\u001b[0m\u001b[1;33m,\u001b[0m \u001b[0mtotalFreqItemS\u001b[0m \u001b[1;33m=\u001b[0m \u001b[0mFP_growth_algo\u001b[0m\u001b[1;33m.\u001b[0m\u001b[0mmain\u001b[0m\u001b[1;33m(\u001b[0m\u001b[0mdatasets_dirs\u001b[0m\u001b[1;33m[\u001b[0m\u001b[1;36m0\u001b[0m\u001b[1;33m]\u001b[0m\u001b[1;33m,\u001b[0m \u001b[0mminSup\u001b[0m\u001b[1;33m)\u001b[0m\u001b[1;33m\u001b[0m\u001b[1;33m\u001b[0m\u001b[0m\n\u001b[0m\u001b[0;32m     29\u001b[0m         \u001b[1;32melif\u001b[0m \u001b[0malgo\u001b[0m \u001b[1;33m==\u001b[0m \u001b[1;34m'Eclat'\u001b[0m\u001b[1;33m:\u001b[0m\u001b[1;33m\u001b[0m\u001b[1;33m\u001b[0m\u001b[0m\n\u001b[0;32m     30\u001b[0m             \u001b[0mfreqItemSets\u001b[0m \u001b[1;33m=\u001b[0m \u001b[0meclat_algo\u001b[0m\u001b[1;33m.\u001b[0m\u001b[0mEclat_Algo\u001b[0m\u001b[1;33m(\u001b[0m\u001b[0mdataset\u001b[0m\u001b[1;33m[\u001b[0m\u001b[1;36m1\u001b[0m\u001b[1;33m]\u001b[0m\u001b[1;33m,\u001b[0m \u001b[1;32mFalse\u001b[0m\u001b[1;33m)\u001b[0m\u001b[1;33m\u001b[0m\u001b[1;33m\u001b[0m\u001b[0m\n",
      "\u001b[1;31mTypeError\u001b[0m: cannot unpack non-iterable NoneType object"
     ]
    },
    {
     "output_type": "display_data",
     "data": {
      "image/png": "[encoded data removed]",
      "text/plain": [
       "<Figure size 1440x360 with 2 Axes>"
      ]
     },
     "metadata": {
      "needs_background": "light"
     }
    }
   ],
   "metadata": {}
  },
  {
   "cell_type": "code",
   "execution_count": null,
   "source": [],
   "outputs": [],
   "metadata": {}
  },
  {
   "cell_type": "code",
   "execution_count": null,
   "source": [
    "import dataset_info\r\n",
    "getDataInfo = dataset_info.parse_transaction_dataset(\"datasets/chess.txt\")\r\n",
    "DATASET = getDataInfo"
   ],
   "outputs": [],
   "metadata": {}
  },
  {
   "cell_type": "code",
   "execution_count": null,
   "source": [
    "import comparison\r\n",
    "comparison.compare_algos_on_dataset(dataset=DATASET, min_sup_lower=0.01, min_sup_upper=0.018, step=0.001)"
   ],
   "outputs": [],
   "metadata": {}
  },
  {
   "cell_type": "code",
   "execution_count": null,
   "source": [
    "import dataset_info\r\n",
    "getDataInfo = dataset_info.parse_transaction_dataset(\"datasets/te.txt\")\r\n",
    "DATASET = getDataInfo"
   ],
   "outputs": [],
   "metadata": {}
  }
 ],
 "metadata": {
  "kernelspec": {
   "name": "python3",
   "display_name": "Python 3.9.5 64-bit"
  },
  "language_info": {
   "codemirror_mode": {
    "name": "ipython",
    "version": 3
   },
   "file_extension": ".py",
   "mimetype": "text/x-python",
   "name": "python",
   "nbconvert_exporter": "python",
   "pygments_lexer": "ipython3",
   "version": "3.9.5"
  },
  "interpreter": {
   "hash": "63fd5069d213b44bf678585dea6b12cceca9941eaf7f819626cde1f2670de90d"
  }
 },
 "nbformat": 4,
 "nbformat_minor": 5
}