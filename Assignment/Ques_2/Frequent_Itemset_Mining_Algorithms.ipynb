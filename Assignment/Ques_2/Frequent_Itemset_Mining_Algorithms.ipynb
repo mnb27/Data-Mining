{
 "cells": [
  {
   "cell_type": "markdown",
   "id": "58cb5cb0",
   "metadata": {},
   "source": [
    "## Dataset Loading and Parsing"
   ]
  },
  {
   "cell_type": "code",
   "execution_count": null,
   "id": "3ab2b622",
   "metadata": {},
   "outputs": [],
   "source": [
    "datasets_dirs = [\"datasets/te.txt\", \"datasets/chess.txt\", \"datasets/liquor_11frequent.txt\", \n",
    "                 \"datasets/t20i6d100k.txt\", \"datasets/BMS2.txt\"]\n",
    "\n",
    "import dataset_info\n",
    "dataset_info.main(datasets_dirs[0])"
   ]
  },
  {
   "cell_type": "markdown",
   "id": "8fd05f59",
   "metadata": {},
   "source": [
    "## Apriori Algorithm"
   ]
  },
  {
   "cell_type": "code",
   "execution_count": null,
   "id": "9e56dd82",
   "metadata": {},
   "outputs": [],
   "source": [
    "import apriori_algo # this has been implemented from scratch\n",
    "apriori_algo.main(datasets_dirs[0])"
   ]
  },
  {
   "cell_type": "markdown",
   "id": "1f477fc3",
   "metadata": {},
   "source": [
    "## Eclat Algorithm"
   ]
  },
  {
   "cell_type": "code",
   "execution_count": null,
   "id": "1666bb8c",
   "metadata": {},
   "outputs": [],
   "source": [
    "import eclat_algo # this has been implemented from scratch\n",
    "eclat_algo.main(datasets_dirs[0])"
   ]
  },
  {
   "cell_type": "markdown",
   "id": "9dd4b5c8",
   "metadata": {},
   "source": [
    "## FP Growth Algorithm"
   ]
  },
  {
   "cell_type": "code",
   "execution_count": null,
   "id": "96a4020a",
   "metadata": {},
   "outputs": [],
   "source": [
    "import FP_growth_algo # this has been implemented from scratch\n",
    "FP_growth_algo.main(datasets_dirs[0])"
   ]
  },
  {
   "cell_type": "code",
   "execution_count": null,
   "id": "03d1d7d5",
   "metadata": {},
   "outputs": [],
   "source": []
  },
  {
   "cell_type": "code",
   "execution_count": null,
   "id": "5f6c888d",
   "metadata": {},
   "outputs": [],
   "source": []
  }
 ],
 "metadata": {
  "kernelspec": {
   "display_name": "Python 3",
   "language": "python",
   "name": "python3"
  },
  "language_info": {
   "codemirror_mode": {
    "name": "ipython",
    "version": 3
   },
   "file_extension": ".py",
   "mimetype": "text/x-python",
   "name": "python",
   "nbconvert_exporter": "python",
   "pygments_lexer": "ipython3",
   "version": "3.9.5"
  }
 },
 "nbformat": 4,
 "nbformat_minor": 5
}
