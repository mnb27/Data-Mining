{
 "cells": [
  {
   "cell_type": "markdown",
   "metadata": {
    "id": "loqU5AKXi_Qv"
   },
   "source": [
    "# Lab 2 : EM Algorithm, DB Scan, and Kmeans\n",
    "\n",
    "---\n",
    "\n",
    "\n",
    "Total Points: **45**\n",
    "\n",
    "Tentative Weightage : **10%**\n",
    "\n",
    "Submission Deadline :  **$31^{st}$ October 2021 , 23:59 hours**\n",
    "\n",
    "---\n",
    "\n",
    "\n",
    "\n",
    "General Instructions:\n",
    "\n",
    "---\n",
    "\n",
    "\n",
    "\n",
    "1. You have to do this lab individually\n",
    "2. You may use **seaborn, matplotlib, pandas, numpy, csv**\n",
    "3. All the code should be submitted in the form of a single Jupyter notebook itself.\n",
    "4. Points for each sub-section are mentioned in the appropriate question.\n",
    "5. You can use Google colab to run a jupyter notebook (https://colab.research.google.com/) How to load data in Google Colab ?(https://towardsdatascience.com/3-ways-to-load-csv-files-into-colab-7c14fcbdcb92) (https://www.marktechpost.com/2019/06/07/how-to-connect-google-colab-with-google-drive/). You can also run it in your local anaconda jupyter notebook.\n",
    "6. The lab must be submitted on Google classroom. The code as well as the accompanying observations should be made part of the python notebook.\n",
    "7. **Code Readability** is very important. Modularize your code by making use of classes, functions that can be flexibly reused wherever necessary. Also use self explanatory variable names and add comments to describe your approach wherever necessary. You may add additional code or text blocks as necessary.\n",
    "8. You are expected to submit your **observations** (preferably in a text block) and not just an error free code.\n",
    "9. Students are expected to follow the **honor code** of the class.\n",
    "10. You can use any programming language of your choice. In case you prefer any other language than python then you can submit all the code and related files along with detailed pdf report in a zip format on the classroom. In such cases  suitable input format for each of the question and a readme file should precisely tell how to compile and run your program. Give the exact commands with respect to the datasets provided. \n",
    "11. The deadline is strict and any assignment submitted later will not\n",
    "be consider for evaluation unless you take prior permission (at least 4 days before the submission deadline).\n",
    "12. The marks will be given on the basis of quality of code, use of innovative data structures, scalability, correctness, and completeness of the reported observation.\n",
    "13. In case of any queries regarding Lab 2, please mail the TAs (emails are provided on the google classroom).\n",
    "\n",
    "**Best Wishes**\n"
   ]
  },
  {
   "cell_type": "markdown",
   "metadata": {
    "id": "6HVGq2yWmgKU"
   },
   "source": [
    "### 1. Adult Dataset\n",
    "\n",
    "#### About the Dataset\n",
    "The data set contains information of 32562 individuals from the 1994\n",
    "census, of which 21790 are males and 10771 are females. We choose six attributes as feature set: age, fnlwgt, education_num, capital_gain, hours_per_week, sex. You can read more about the dataset [here](https://archive.ics.uci.edu/ml/datasets/adult) \n",
    "\n",
    "\n",
    "\n",
    "### 2. Spiral Dataset\n",
    "\n",
    "#### About the Dataset\n",
    "The dataset is synthetically generated contains 5000 datapoints. Each datapoint contains a feature vector of size three denoting x,y coordinate in 2D plane and the last feature denoting the binary class. \n",
    "\n",
    "\n",
    "\n",
    "---\n",
    "\n",
    "**NOTE**: Please use the provided dataset files along with this notebook. The adult dataset is scaled and normalised version of complete dataset available at UCI repository. \n",
    "\n",
    "---"
   ]
  },
  {
   "cell_type": "code",
   "execution_count": 2,
   "metadata": {
    "id": "9ohM-1XDtGPM"
   },
   "outputs": [],
   "source": [
    "# Perform the necessary imports here\n",
    "\n",
    "import numpy as np\n",
    "import pandas as pd\n",
    "import matplotlib.pyplot as plt\n",
    "import csv"
   ]
  },
  {
   "cell_type": "code",
   "execution_count": null,
   "metadata": {
    "id": "RieW4K3xtPr5"
   },
   "outputs": [],
   "source": [
    "# To access files stored in Google Drive, following block import is used\n",
    "# If using on a local system, please comment the lines below in this code block\n",
    "\n",
    "# from google.colab import drive\n",
    "# drive.mount('/content/MyDrive', force_remount = True)"
   ]
  },
  {
   "cell_type": "markdown",
   "metadata": {
    "id": "_IZ52annrOwn"
   },
   "source": [
    "**TASK 1**:                                                      **(5 Marks)**\n",
    "\n",
    "1. Download and load the dataset files into pandas dataframe. You can refer to the [pandas documentation](https://pandas.pydata.org/pandas-docs/stable/reference/io.html). (**1 point**) \n",
    "2. Report the total number of samples and the total number of columns in the dataset. (**1 point**)\n",
    "3. Evaluate the dataset and drop data which hash 'NA' values. Now report the total number of samples and the total number of columns in the dataset. (**1 point**)\n",
    "4. Plot a bar chart showing the number of samples present for different class. In Adult dataset consider 'sex' to be class labels and in Spiral dataset consider the last binary feature to be class label. (**1 point**)\n",
    "5. Plot the spiral dataset using matplotlib to check if the datset is spiral or not. Use only first two columns denoting x,y coordinates in 2D plane. (**1 point**)"
   ]
  },
  {
   "cell_type": "code",
   "execution_count": 3,
   "metadata": {
    "id": "TBJ1ELPii60C"
   },
   "outputs": [
    {
     "data": {
      "text/html": [
       "<div>\n",
       "<style scoped>\n",
       "    .dataframe tbody tr th:only-of-type {\n",
       "        vertical-align: middle;\n",
       "    }\n",
       "\n",
       "    .dataframe tbody tr th {\n",
       "        vertical-align: top;\n",
       "    }\n",
       "\n",
       "    .dataframe thead th {\n",
       "        text-align: right;\n",
       "    }\n",
       "</style>\n",
       "<table border=\"1\" class=\"dataframe\">\n",
       "  <thead>\n",
       "    <tr style=\"text-align: right;\">\n",
       "      <th></th>\n",
       "      <th>age</th>\n",
       "      <th>fnlwgt</th>\n",
       "      <th>education_num</th>\n",
       "      <th>capital_gain</th>\n",
       "      <th>hours_per_week</th>\n",
       "      <th>gender</th>\n",
       "    </tr>\n",
       "  </thead>\n",
       "  <tbody>\n",
       "    <tr>\n",
       "      <th>26854</th>\n",
       "      <td>-0.258638</td>\n",
       "      <td>0.936072</td>\n",
       "      <td>-0.007782</td>\n",
       "      <td>-0.225159</td>\n",
       "      <td>-0.078216</td>\n",
       "      <td>0</td>\n",
       "    </tr>\n",
       "    <tr>\n",
       "      <th>22710</th>\n",
       "      <td>-0.279398</td>\n",
       "      <td>0.759026</td>\n",
       "      <td>-0.372482</td>\n",
       "      <td>0.451336</td>\n",
       "      <td>-0.058039</td>\n",
       "      <td>0</td>\n",
       "    </tr>\n",
       "    <tr>\n",
       "      <th>16664</th>\n",
       "      <td>-0.557605</td>\n",
       "      <td>-0.023267</td>\n",
       "      <td>0.823971</td>\n",
       "      <td>-0.020595</td>\n",
       "      <td>-0.095828</td>\n",
       "      <td>0</td>\n",
       "    </tr>\n",
       "    <tr>\n",
       "      <th>22095</th>\n",
       "      <td>-0.411413</td>\n",
       "      <td>0.654640</td>\n",
       "      <td>0.048200</td>\n",
       "      <td>0.629466</td>\n",
       "      <td>-0.060293</td>\n",
       "      <td>1</td>\n",
       "    </tr>\n",
       "    <tr>\n",
       "      <th>28253</th>\n",
       "      <td>-0.397811</td>\n",
       "      <td>-0.025357</td>\n",
       "      <td>-0.860124</td>\n",
       "      <td>-0.300639</td>\n",
       "      <td>-0.104436</td>\n",
       "      <td>0</td>\n",
       "    </tr>\n",
       "  </tbody>\n",
       "</table>\n",
       "</div>"
      ],
      "text/plain": [
       "            age    fnlwgt  education_num  capital_gain  hours_per_week  gender\n",
       "26854 -0.258638  0.936072      -0.007782     -0.225159       -0.078216       0\n",
       "22710 -0.279398  0.759026      -0.372482      0.451336       -0.058039       0\n",
       "16664 -0.557605 -0.023267       0.823971     -0.020595       -0.095828       0\n",
       "22095 -0.411413  0.654640       0.048200      0.629466       -0.060293       1\n",
       "28253 -0.397811 -0.025357      -0.860124     -0.300639       -0.104436       0"
      ]
     },
     "execution_count": 3,
     "metadata": {},
     "output_type": "execute_result"
    }
   ],
   "source": [
    "# Load the data from csv file into a data frame (1 point)\n",
    "\n",
    "# read spiral dataset\n",
    "dfsp = pd.read_csv('spiral.csv')\n",
    "dfsp.sample(5)\n",
    "# dfsp.describe()\n",
    "\n",
    "# read adult dataset\n",
    "dfad = pd.read_csv('adult.csv')\n",
    "dfad.sample(5)\n",
    "# dfad.describe()"
   ]
  },
  {
   "cell_type": "code",
   "execution_count": 4,
   "metadata": {
    "id": "vHEmt7MHtU5A"
   },
   "outputs": [
    {
     "name": "stdout",
     "output_type": "stream",
     "text": [
      "In Spiral dataset -->\n",
      "Total Samples :  5000\n",
      "Total Columns :  3\n",
      "In Adult dataset -->\n",
      "Total Samples :  32561\n",
      "Total Columns :  6\n"
     ]
    }
   ],
   "source": [
    "# Print the number of instances and attributes in the loaded data frame (1 point)\n",
    "data1 = dfsp.to_numpy()\n",
    "print(\"In Spiral dataset -->\")\n",
    "print(\"Total Samples : \",data1.shape[0])\n",
    "print(\"Total Columns : \",data1.shape[1])\n",
    "\n",
    "data2 = dfad.to_numpy()\n",
    "print(\"In Adult dataset -->\")\n",
    "print(\"Total Samples : \",data2.shape[0])\n",
    "print(\"Total Columns : \",data2.shape[1])"
   ]
  },
  {
   "cell_type": "code",
   "execution_count": 5,
   "metadata": {
    "id": "nkmGlPrWtVWS"
   },
   "outputs": [],
   "source": [
    "# Drop the rows with NaN values (0.5 points)\n",
    "dfad = dfad.dropna()\n",
    "dfsp = dfsp.dropna()"
   ]
  },
  {
   "cell_type": "code",
   "execution_count": 6,
   "metadata": {
    "id": "UWk__RgItWku"
   },
   "outputs": [
    {
     "name": "stdout",
     "output_type": "stream",
     "text": [
      "In Spiral dataset -->\n",
      "Total Samples :  5000\n",
      "Total Columns :  3\n",
      "In Adult dataset -->\n",
      "Total Samples :  32561\n",
      "Total Columns :  6\n"
     ]
    }
   ],
   "source": [
    "# Print the number of instances and attributes in the loaded data frame after removal of NaN columns (0.5 points)\n",
    "data1 = dfsp.to_numpy()\n",
    "print(\"In Spiral dataset -->\")\n",
    "print(\"Total Samples : \",data1.shape[0])\n",
    "print(\"Total Columns : \",data1.shape[1])\n",
    "\n",
    "data2 = dfad.to_numpy()\n",
    "print(\"In Adult dataset -->\")\n",
    "print(\"Total Samples : \",data2.shape[0])\n",
    "print(\"Total Columns : \",data2.shape[1])"
   ]
  },
  {
   "cell_type": "code",
   "execution_count": 39,
   "metadata": {
    "id": "6yJSaPMytVut"
   },
   "outputs": [
    {
     "data": {
      "text/plain": [
       "<AxesSubplot:xlabel='ADULT DATASET : GENDER --->'>"
      ]
     },
     "execution_count": 39,
     "metadata": {},
     "output_type": "execute_result"
    },
    {
     "data": {
      "image/png": "[encoded data removed]",
      "text/plain": [
       "<Figure size 432x288 with 1 Axes>"
      ]
     },
     "metadata": {
      "needs_background": "light"
     },
     "output_type": "display_data"
    },
    {
     "data": {
      "image/png": "[encoded data removed]",
      "text/plain": [
       "<Figure size 432x288 with 1 Axes>"
      ]
     },
     "metadata": {
      "needs_background": "light"
     },
     "output_type": "display_data"
    }
   ],
   "source": [
    "# Plot a bar chart showing the number of samples for different classes in both dataset (1 point)\n",
    "# dfsp['class'].value_counts()\n",
    "dfsp['class'].value_counts().rename_axis('SPIRAL DATASET : CLASS --->').rename('Samples Count').to_frame().plot(kind='bar', color='#149dc7')\n",
    "dfad['gender'].value_counts().rename_axis('ADULT DATASET : GENDER --->').rename('Samples Count').to_frame().plot(kind='bar', color='#a014c7')"
   ]
  },
  {
   "cell_type": "code",
   "execution_count": 40,
   "metadata": {
    "id": "NotYxAdmtp8G"
   },
   "outputs": [
    {
     "data": {
      "image/png": "[encoded data removed]",
      "text/plain": [
       "<Figure size 576x504 with 1 Axes>"
      ]
     },
     "metadata": {
      "needs_background": "light"
     },
     "output_type": "display_data"
    }
   ],
   "source": [
    "# Plot a scatter plot for spiral dataset (1 point)\n",
    "data = data1\n",
    "Class = data[:,2]\n",
    "Class = Class.astype(int)\n",
    "plt.figure(figsize=(8, 7))\n",
    "plt.scatter(data[:,0][Class==0],data[:,1][Class==0])\n",
    "plt.scatter(data[:,0][Class==1],data[:,1][Class==1])\n",
    "plt.xlabel('x')\n",
    "plt.ylabel('y')\n",
    "plt.title('Spiral dataset')\n",
    "plt.legend(['class0','class1'])\n",
    "plt.show()"
   ]
  },
  {
   "cell_type": "markdown",
   "metadata": {
    "id": "UR2kPDV_t7J1"
   },
   "source": [
    "### Comments on Task 1\n",
    "\n",
    "---\n",
    "- Adult dataset has more samples compared to spiral dataset.\n",
    "- As spiral dataset has large number of data points, above plot doesn't look like spiral. Plot is kind of 2-elliptical (inner and outer)"
   ]
  },
  {
   "cell_type": "markdown",
   "metadata": {
    "id": "rp5DqNjn2Exp"
   },
   "source": [
    "---\n",
    "**End of Task 1**\n",
    "\n",
    "\n",
    "---\n",
    "\n"
   ]
  },
  {
   "cell_type": "markdown",
   "metadata": {
    "id": "rwKWsEmRuCgl"
   },
   "source": [
    "**TASK 2: DBSCAN**  \n",
    "                                                     **(6+2+2=10 Marks)**\n",
    "1. Implement the clustering algorithm DBSCAN on both the datasets. \n",
    "2. Compare the two datasets in terms of sum of the squared error and time taken on both datasets. \n",
    "3. Plot the obtained clusters for number of cluster ($k$=2).\n",
    "3. Compare the performance of algorithm on the given datasets with different $k$ values and prepare a detailed observation in the suitable comment box.\n",
    "4. Which value of K that is best suited based on the sum of squared error metric. Write your general observation and reason for the same. [The answer will be evaluated based on your observations and not any fixed pre-defined value]\n",
    "\n",
    "**NOTE:<br> 1. Take different $k$ values as 2,5,10,20 and report your obervation.<br> 2. Dont include the sex feature and class label feature in adult and spiral dataset respectively for this task. Thus use 5 features in adult and 2 features in spiral dataset.**\n",
    "\n",
    "UPDATES TASK 2\n",
    "1. Implement the clustering algorithm DBSCAN on both the datasets.\n",
    "2. Compare the two datasets in terms of sum of the squared error and time taken on both datasets.\n",
    "3. Take any suitable value for hyper-parameters eplison and min. points and plot the obtained clusters.\n",
    "4. Compare the performance of algorithm on the given datasets with different epilson values (fixing min.\n",
    "points) and prepare a detailed observation in the suitable comment box. Now fix the min points and vary\n",
    "the epilson and report your observation related to number of clusters formed.\n",
    "5. Which value of epilson and min points do you think is best suited based on the sum of squared error\n",
    "metric. Write your general observation and reason for the same. [The answer will be evaluated based on\n",
    "your observations and not any fixed pre-defined value]\n",
    "\n",
    "**NOTE:<br> 1. Dont include the sex and class label attribute in adult and spiral dataset respectively for this task. Thus\n",
    "use 5 features in adult and 2 features in spiral dataset.**\n"
   ]
  },
  {
   "cell_type": "markdown",
   "metadata": {
    "id": "XKoSJZSfypNB"
   },
   "source": [
    "### Implementation of Task 2 on each dataset\n",
    "##### **(3+3=6 Marks)**"
   ]
  },
  {
   "cell_type": "code",
   "execution_count": null,
   "metadata": {
    "id": "fF9udrGkx-j8"
   },
   "outputs": [],
   "source": [
    "#Implement the DBSCAN on both datasets   6 points                      \n",
    "# Please insert your code here\n",
    "\n"
   ]
  },
  {
   "cell_type": "markdown",
   "metadata": {
    "id": "RvnjvQQKzLVj"
   },
   "source": [
    "### Plot for Task 2 on both datasets\n",
    "##### **(1+1=2 Marks)**"
   ]
  },
  {
   "cell_type": "code",
   "execution_count": null,
   "metadata": {
    "id": "Hm9j5F68znAb"
   },
   "outputs": [],
   "source": [
    "#Plot for k=2 clusters obtained clusters on both dataset   2 points                      \n",
    "# Please insert your code here\n",
    "\n"
   ]
  },
  {
   "cell_type": "markdown",
   "metadata": {
    "id": "Z6ut064PyTiD"
   },
   "source": [
    "### Comments on Task 2          \n",
    "##### **(2 Marks)**\n",
    "\n",
    "---\n",
    "\n",
    "Please enter your comments here"
   ]
  },
  {
   "cell_type": "markdown",
   "metadata": {
    "id": "xDMVudPp1eui"
   },
   "source": [
    "---\n",
    "**End of Task 2**\n",
    "\n",
    "\n",
    "---\n",
    "\n"
   ]
  },
  {
   "cell_type": "markdown",
   "metadata": {
    "id": "FLiQufjK0EsK"
   },
   "source": [
    "**TASK 3: EM Algorithm**  \n",
    "                                                     **(6+2+2=10 Marks)**\n",
    "1. Implement the EM algorithm with the assumption of Gaussian Mixture model.\n",
    "2. Take $k$=2 for spiral and $k$=10 for adult dataset.\n",
    "3. Plot the estimated density functions from your algorithm against the data points generated for both datasets. \n",
    "4. Explain the plot in the comment section box for task for both datasets.\n"
   ]
  },
  {
   "cell_type": "markdown",
   "metadata": {
    "id": "YXSTrv-u1HZd"
   },
   "source": [
    "### Implementation of Task 3 on each dataset\n",
    "##### **(3+3=6 Marks)**"
   ]
  },
  {
   "cell_type": "code",
   "execution_count": null,
   "metadata": {
    "id": "rc4ArJ_g09AP"
   },
   "outputs": [],
   "source": [
    "#Implement the EM Algorithm on both datasets   6 points                      \n",
    "# Please insert your code here\n",
    "\n",
    "\n"
   ]
  },
  {
   "cell_type": "code",
   "execution_count": null,
   "metadata": {
    "id": "C3vnE_y009h3"
   },
   "outputs": [],
   "source": [
    "#Plot for respective k value of both dataset   2 points                      \n",
    "# Please insert your code here\n",
    "\n"
   ]
  },
  {
   "cell_type": "markdown",
   "metadata": {
    "id": "ah4rp5pa0-9B"
   },
   "source": [
    "### Comments on Task 3          \n",
    "##### **(2 Marks)**\n",
    "\n",
    "---\n",
    "\n",
    "Please enter your comments here"
   ]
  },
  {
   "cell_type": "markdown",
   "metadata": {
    "id": "tordjMO52HtP"
   },
   "source": [
    "---\n",
    "**End of Task 3**\n",
    "\n",
    "\n",
    "---\n",
    "\n"
   ]
  },
  {
   "cell_type": "markdown",
   "metadata": {
    "id": "3_lv9UU94H3C"
   },
   "source": [
    "## A) **$k$-means Clustering**\n",
    "\n",
    "$k$-means is very well studied problem in the domain of unsupervised machine learning. It is also sometimes called Vanilla $k$-means or standard $k$-means algorithm. The goal of algorithm is to select $k$ centers and obtain the partioning of the dataset X such that the datapoints are nearest to each center they are assigned. The objective cost of the final clustering obtained is given by \n",
    "$$L_p(X, C, \\phi) = \\left(\\sum_{x \\in  X }\\sum_{j \\in [k] } \\mathbb{I}(\\phi(x) =j)d(x,c_j)^2\\right)^\\frac{1}{2}\n",
    " $$ where $\\mathcal{C} = \\{C_1, C_2, \\ldots, C_k\\}$ denotes clusters with centers $C = \\{c_j\\}_{j=1}^{k}$, $d(.)$ is euclidean distance metric , $\\phi$ is cluster assignment and $\\mathbb{I}$ is indicator function which helps in checking if datapoint $x$ belongs to $j^{th}$ cluster.<br>\n",
    " \n",
    "\n",
    "It is basically the squared sum of euclidean distance between each point and assigned center. For further details refer **Lecture Notes**\n",
    "\n",
    "## B)  **Fair $k$-means Clustering**\n",
    "Machine Learning is being studied in both supervised and unsupervised settings. The decision taken by these algorithms have societal impact on the humans. So if any such decision is biased towards a particular type of people it will lead to catastropic effects on the life of affected individuals. Many such reallife scenarios like automated resume processing of amazon, and US criminal risk prediction etc. have been found to biased towards certain groups of socities like females, or individuals belonging to certain race (black). Thus there is need of fair machine learning algorithms.<br>\n",
    "In **Supervised** setting, fairness is very well studied problem. In unsupervised setting many new algorithms are coming up to deal with fairness issues and reduce the biasness. <br>\n",
    "In **Unsupervised** settings like $k$-means clustering the fairness is being studied in two aspects namely:<br><br>\n",
    "1.**Group Fairness Notion** - deals with the fairness in terms of complete group of points in the cluster. It tries to maintain the ratio of every type of individual within each cluster. eg. If we have 100 datapoints (70 Males + 30 Females) to train upon. Then group fairness tries to capture this ratio within each formed cluster. In simple words,it tries to maintain the ratio of males:females in each cluster to be 70:30 ie 7:3 . <br> \n",
    "&nbsp;&nbsp;&nbsp;&nbsp;&nbsp;&nbsp;&nbsp;&nbsp; To achieve this each center might have to loose some of good points that are intially close to it so as to maintain the ratio. Thus there will be increase in objective cost as compared to vanilla $k$-means clustering.<br>\n",
    "&nbsp;&nbsp;&nbsp;&nbsp;&nbsp;&nbsp;In order to check whether the obtained clusters are fair or not what one can do is to calculate the value of fairness metric known as **Balance** which can be computed using the given formula:\n",
    "\n",
    "$$Balance(X,C,\\phi) = \\min_{j \\in \\mathcal{C}}\\left( \n",
    " \\min\\left( \\frac{\\sum_{x \\in X:\\phi(x)=j}\\mathbb{I}{(\\rho_i=a)}}{\\sum_{x \\in X:\\phi(x)=j}\\mathbb{I}{(\\rho_i=b)}}, \\frac{\\sum_{x \\in X:\\phi(x)=j}\\mathbb{I}{(\\rho_i=b)}}{\\sum_{x \\in X:\\phi(x)=j}\\mathbb{I}{(\\rho_i=a)}} \\right)\n",
    "\\right)$$ where $\\rho_i$ is the protected attribute of $i^{th}$ data instance and $\\rho_i$ can take value $a$ or $b$ in case of binary valued attribute.<br>\n",
    "<br>\n",
    "The formula mainly tells us that we need to find the minimum of (a/b , b/a) for each cluster then among these obtained minimas we will report the overall minimum as the balance for complete clustering set obtained.<br><br>\n",
    "**Takeaway for assignment:** *In our case a and b are two possible values of protected group like male and female.* <br>\n",
    "*In your assignment so basically you need to find the ratio of male/female or female/male for each cluster, store these in some array and then find the minimum of this array. This final minimum will be the balance. In dataset you can assume male being denoted by 1 and female being denoted by 0*<br><br>\n",
    "\n",
    "2.**Individual Fairness Notion** -  deals with the fairness with regards to each individual in the space. On similar grounds as balance, one can check the individual fairness in obtained clustering using the metric given by :\n",
    "\n",
    "$$MaxD(X,C,\\phi) = \\min_{j \\in \\mathcal{C}}\\left( \n",
    " \\min\\left( \\frac{\\max_{x \\in X:\\phi(x)=j,\\ \\rho_i=a} d(x,c_j)}{\\max_{x \\in X:\\phi(x)=j,\\ \\rho_i=b} d(x,c_j)}, \\frac{\\max_{x \\in X:\\phi(x)=j,\\ \\rho_i=b} d(x,c_j)}{\\max_{x \\in X:\\phi(x)=j,\\ \\rho_i=a} d(x,c_j)} \\right)\n",
    "\\right)$$\n",
    "<br><br>\n",
    "It basically tries to find the minimum of ( Farthest_male_point_distance /Farthest_female_point_distance ) in each cluster ans then overall metric is minima of these obtained values over k cluster. \n",
    "\n",
    "**Takeaway for assignment:**<br> *In your assignment so basically you need to find the minimum of $p=\\frac{(farthest\\ distance\\ of\\ male\\ point\\ in\\ cluster)}{(farthest\\ distance\\ of\\ female\\ point\\ in\\ cluster)}$ or $p^{-1}$  for each cluster, store these in some array and then find the minimum of these obtained k sized array. This final minimum will be the maxD.*<br><br>\n",
    "\n",
    "\n"
   ]
  },
  {
   "cell_type": "markdown",
   "metadata": {
    "id": "T246Jccm2JYk"
   },
   "source": [
    "**TASK 4: Fair $k$-means Clustering**  \n",
    "                                                     **(19 Marks)**<br><br>\n",
    "**NOTE:** This task is to be done only on **Adult** dataset.\n",
    "1. Implement the $k$-means clustering algorithm.\n",
    "2. While performing $k$-means clustering on adult dataset use only five attributes as feature set: age, fnlwgt, education_num, capital_gain, hours_per_week. \n",
    "3. Use the attribute sex as protected (sensitive) attribute for fairness.\n",
    "4. Calculate the objective cost for different k values. \n",
    "4. Calculate the fairness metrics ie. balance and MaxD for set of clusters obtained against different $k$ values. To be more precise, store the value of both metric in a array for different $k$ values. Print these value array obtained\n",
    "5. Plot the variation of objective cost, balance and maxD over different $k$ values.\n",
    "6. Comment your observation. Also tell your observation which fairness notion is more beneficial and should be focused upon? Can you think of some other notion of fairness in clustering?\n",
    "\n",
    "\n",
    "**NOTE: Take different $k$ values as 2,5,10,20 to report your obervation.**"
   ]
  },
  {
   "cell_type": "code",
   "execution_count": null,
   "metadata": {
    "id": "5B_mWIZo6uAx"
   },
   "outputs": [],
   "source": [
    "#Implement the kmeans algorithm        10 points \n",
    "# Please insert your code here\n",
    "\n",
    "\n",
    "\n",
    "#Calculate the fairness metrics and print       5 points for calculation of all three metrics and  1 point for printing\n",
    "# Please insert your code\n",
    "\n",
    "\n",
    "\n",
    "\n",
    "\n",
    "## Plot the variation over different k values     3 points \n",
    "# Please insert your code\n"
   ]
  },
  {
   "cell_type": "markdown",
   "metadata": {
    "id": "FJm9CDpO6uZx"
   },
   "source": [
    "### Comments on Task 4          \n",
    "##### **( Marks)**\n",
    "\n",
    "---\n",
    "\n",
    "Please enter your comments here"
   ]
  },
  {
   "cell_type": "markdown",
   "metadata": {
    "id": "ovjczJyc7eMM"
   },
   "source": [
    "---\n",
    "**End of Task 4**\n",
    "\n",
    "\n",
    "---\n",
    "\n"
   ]
  },
  {
   "cell_type": "markdown",
   "metadata": {
    "id": "cAMpsMZz6zKd"
   },
   "source": [
    "**TASK 5: Observation**\n",
    "**(0.5 + 0.5 =1 Marks)**   \n",
    " \n",
    "#### Which out of $k$-means and DBSCAN algorithm do you think is best suited for the given datasets ?"
   ]
  },
  {
   "cell_type": "markdown",
   "metadata": {
    "id": "dDJZ89en6zjq"
   },
   "source": [
    "---\n",
    "**End of Task 5**\n",
    "\n",
    "\n",
    "---\n",
    "\n"
   ]
  }
 ],
 "metadata": {
  "colab": {
   "collapsed_sections": [],
   "name": "Lab2  Data Mining 2021.ipynb",
   "provenance": []
  },
  "kernelspec": {
   "display_name": "Python 3",
   "language": "python",
   "name": "python3"
  },
  "language_info": {
   "codemirror_mode": {
    "name": "ipython",
    "version": 3
   },
   "file_extension": ".py",
   "mimetype": "text/x-python",
   "name": "python",
   "nbconvert_exporter": "python",
   "pygments_lexer": "ipython3",
   "version": "3.9.5"
  }
 },
 "nbformat": 4,
 "nbformat_minor": 1
}
