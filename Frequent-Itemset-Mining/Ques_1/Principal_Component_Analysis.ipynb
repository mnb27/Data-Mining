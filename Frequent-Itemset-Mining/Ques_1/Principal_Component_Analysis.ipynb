{
 "cells": [
  {
   "cell_type": "markdown",
   "id": "e3d9afe4",
   "metadata": {},
   "source": [
    "## PCA Implementation"
   ]
  },
  {
   "cell_type": "markdown",
   "id": "9115d08c",
   "metadata": {},
   "source": [
    "###### LOADING PATHS OF AVAILABLE DATASETS"
   ]
  },
  {
   "cell_type": "code",
   "execution_count": 1,
   "id": "33144e33",
   "metadata": {},
   "outputs": [],
   "source": [
    "Datasets_list = [\"movement_libras\",\"movement_libras_1\",\"movement_libras_5\",\n",
    "                 \"movement_libras_8\",\"movement_libras_9\",\"movement_libras_10\"]\n",
    "Datasets_dirs = list()\n",
    "for dataset in Datasets_list:\n",
    "    Datasets_dirs.append(\"LibrasDatasets/\"+str(dataset)+\".data\")"
   ]
  },
  {
   "cell_type": "code",
   "execution_count": null,
   "id": "3ff36ff9",
   "metadata": {},
   "outputs": [],
   "source": [
    "## Install packages if not [Requirements]\n",
    "! pip install pandas\n",
    "! pip install numpy\n",
    "! pip install matplotlib\n",
    "! pip install seaborn"
   ]
  },
  {
   "cell_type": "markdown",
   "id": "92b4a9f5",
   "metadata": {},
   "source": [
    "#### MODULES USED"
   ]
  },
  {
   "cell_type": "code",
   "execution_count": 2,
   "id": "fe2aa988",
   "metadata": {},
   "outputs": [],
   "source": [
    "# for basic math operations and data loading\n",
    "import pandas as pd\n",
    "import numpy as np\n",
    "\n",
    "# for plotting graphs\n",
    "import seaborn as sb\n",
    "import matplotlib.pyplot as plt"
   ]
  },
  {
   "cell_type": "markdown",
   "id": "b059046a",
   "metadata": {},
   "source": [
    "#### DATA PREPARATION CLASS"
   ]
  },
  {
   "cell_type": "code",
   "execution_count": 3,
   "id": "4e826b0f",
   "metadata": {},
   "outputs": [],
   "source": [
    "## Below follows data preparation class which contains all required functions and data members\n",
    "class prepareData:\n",
    "    \n",
    "    def __init__(self, dataset_dir, printIT=False): \n",
    "        self.dataset_dir = dataset_dir\n",
    "        self.printIT = printIT\n",
    "    \n",
    "    def load_dataset(self):\n",
    "        data_col_names = list() \n",
    "        for i in range(90):\n",
    "            data_col_names.append(\"X_col\"+str(i+1))\n",
    "        data_col_names.append(\"Y_col\")\n",
    "\n",
    "        data = pd.read_csv(self.dataset_dir, names=data_col_names)\n",
    "        # data.head()\n",
    "        \n",
    "        ## PREPARE X AND Y\n",
    "        X = data.drop(['Y_col'], axis=1)\n",
    "        Y = data['Y_col']\n",
    "        if(self.printIT):\n",
    "            print(\"X data : \",X)\n",
    "            print(\"Y classes : \",Y)\n",
    "        return X,Y\n",
    "    \n",
    "    def std_dataset(self, X):\n",
    "        ## STANDARDIZE DATASET\n",
    "\n",
    "        _mean = np.mean(X, axis=0)\n",
    "        _scale = np.std(X - _mean, axis=0)\n",
    "        _X = (X - _mean)/_scale # _X is standardized data\n",
    "        \n",
    "         # making NAN to numbers for datatype consitency. Althoght no value is missing in Libras Datasets\n",
    "        _X = np.nan_to_num(_X) \n",
    "        if(self.printIT):\n",
    "            print(\"std X data : \",_X)\n",
    "        return _X\n",
    "    "
   ]
  },
  {
   "cell_type": "code",
   "execution_count": 4,
   "id": "815752b8",
   "metadata": {},
   "outputs": [
    {
     "data": {
      "text/plain": [
       "array([[ 1.15937304, -0.92951044,  1.16413245, ..., -0.82149815,\n",
       "         0.64799276, -0.8909614 ],\n",
       "       [ 0.56538106, -1.51057836,  0.57805964, ...,  1.24028011,\n",
       "        -1.4220029 ,  1.1983437 ],\n",
       "       [ 0.77958869, -1.70841598,  0.79292607, ..., -1.0729544 ,\n",
       "         1.28357889, -0.97597143],\n",
       "       ...,\n",
       "       [ 0.22456186,  1.08582686,  0.22644625, ...,  0.30994632,\n",
       "        -0.21095664,  0.27514529],\n",
       "       [ 0.46796818,  1.25893478,  0.46085517, ...,  0.33509195,\n",
       "         0.21854026,  0.29944137],\n",
       "       [ 0.37060565,  0.87565108,  0.3827357 , ...,  0.17167254,\n",
       "         0.12404384,  0.15371739]])"
      ]
     },
     "execution_count": 4,
     "metadata": {},
     "output_type": "execute_result"
    }
   ],
   "source": [
    "# For Testing\n",
    "prepareDataInst = prepareData(Datasets_dirs[0], False)\n",
    "X, Y = prepareDataInst.load_dataset()\n",
    "_X = prepareDataInst.std_dataset(X)\n",
    "_X"
   ]
  },
  {
   "cell_type": "markdown",
   "id": "8e0ad327",
   "metadata": {},
   "source": [
    "#### PCA CLASS WITH ALL REQUIRED MEMBERS AND FUNCTIONS"
   ]
  },
  {
   "cell_type": "code",
   "execution_count": 5,
   "id": "acb75aed",
   "metadata": {},
   "outputs": [],
   "source": [
    "## Below follows PCA class which contains all required functions and data members\n",
    "class PCA:\n",
    "    \n",
    "    def __init__(self, dataset_dir, components, printIT=False): \n",
    "        self.dataset_dir = dataset_dir\n",
    "        self.components = components\n",
    "        self.printIT = printIT\n",
    "        \n",
    "    def compute(self, _X):\n",
    "        ## Compute Covariance Matrix and reporting Eigen values and vectors afterwards\n",
    "        covar_mat = np.cov(_X.transpose()) # cov of _X transpose\n",
    "        eigenArray = np.linalg.eigh(covar_mat)\n",
    "        eigenValues = eigenArray[0]\n",
    "        eigenVectors = eigenArray[1]\n",
    "        if(self.printIT):\n",
    "            print(covar_mat[:5])\n",
    "        # print(eigen_values[:5])\n",
    "        # print(eigen_vectors.shape)\n",
    "        \n",
    "        explained_variances = list()\n",
    "        for i in range(len(eigenValues)):\n",
    "            explained_variances.append(eigenValues[i] / np.sum(eigenValues))\n",
    "        # print(np.sum(explained_variances), '\\n', explained_variances)\n",
    "        \n",
    "        ## Arrange eigen vectors and values\n",
    "        idx = np.argsort(eigenValues)[::-1]\n",
    "        _EigVals = np.array(eigenValues)[idx]\n",
    "        _EigVec = np.array(eigenVectors)[:,idx]\n",
    "        \n",
    "        ## Finding principal compnents\n",
    "        PCs_required = self.components # if equal 2 --> 2D [This can be visualized easily by us and python tools graphically]\n",
    "\n",
    "        ## Transform data X by taking dot product\n",
    "        _X_reduced = np.dot((_EigVec[:,0:PCs_required]).T , _X.T ).T\n",
    "        # print(_X_reduced)\n",
    "        \n",
    "        if(self.printIT):\n",
    "            print(\"Reduced X : \", _X_reduced)\n",
    "            print(\"Eigen values : \",_EigVals)\n",
    "            print(\"Eigen vectors : \",_EigVec)\n",
    "            \n",
    "        return _X_reduced, _EigVals, _EigVec\n",
    "    \n",
    "    def displayPC_Table(self, _X_reduced, Y):\n",
    "        ## Make table of X PCs and Y\n",
    "        PC_col_names = list()\n",
    "        for i in range(self.components):\n",
    "            PC_col_names.append(\"Principal Component -\"+str(i+1))\n",
    "\n",
    "        PCtable = pd.DataFrame(_X_reduced , columns = PC_col_names)\n",
    "        PCtable = pd.concat([PCtable , pd.DataFrame(Y)] , axis = 1)\n",
    "        \n",
    "        if(self.printIT):\n",
    "            print(PCtable[:5])\n",
    "        return PCtable\n",
    "        \n",
    "    def plotResults(self, PCtable):\n",
    "        ## Plotting Results using seaborn and matplotlib \n",
    "        if self.components==2:    \n",
    "            plt.figure(figsize = (8,7))\n",
    "            plt.title(\"REDUCED DIMENSION PLOT\")\n",
    "            sb.scatterplot(data=PCtable,x='Principal Component -1',y='Principal Component -2',hue='Y_col',s=100,palette='Set2')\n",
    "        else:\n",
    "            print(\"Cannot visualize higher dimensional data\")\n",
    "            \n",
    "        return None"
   ]
  },
  {
   "cell_type": "markdown",
   "id": "89736ea6",
   "metadata": {},
   "source": [
    "#### MAIN FUNCTION TO SIMULATE PCA VIA CLASS INSTANCE"
   ]
  },
  {
   "cell_type": "code",
   "execution_count": 6,
   "id": "f09d067b",
   "metadata": {},
   "outputs": [],
   "source": [
    "prepareDataInst = prepareData(Datasets_dirs[0], False) # instance of data preparation class\n",
    "X, Y = prepareDataInst.load_dataset()\n",
    "_X = prepareDataInst.std_dataset(X)\n",
    "\n",
    "pcaInst = PCA(Datasets_dirs[0], 2, False) # instance of PCA class\n",
    "_X_reduced, _EigVals, _EigVec = pcaInst.compute(_X) # Compute function has steps involved in PCA implementation\n",
    "PCtable = pcaInst.displayPC_Table(_X_reduced, Y)"
   ]
  },
  {
   "cell_type": "code",
   "execution_count": 11,
   "id": "6d0ab6c3",
   "metadata": {},
   "outputs": [
    {
     "name": "stdout",
     "output_type": "stream",
     "text": [
      "EIGEN VALUES -->  [2.11137455e+01 1.89491506e+01 1.61225203e+01 1.16711225e+01\n",
      " 5.51957859e+00 5.33013080e+00 2.98187609e+00 2.46612250e+00\n",
      " 1.95631178e+00 1.56474463e+00 5.39658605e-01 4.90932995e-01\n",
      " 4.30660116e-01 3.00055078e-01 2.39335465e-01 1.65488708e-01\n",
      " 9.65313766e-02 7.76539462e-02 3.92992370e-02 3.46838740e-02\n",
      " 2.48027630e-02 1.75955087e-02 1.37563732e-02 1.28377546e-02\n",
      " 1.08166345e-02 9.57029759e-03 8.38739428e-03 6.68384253e-03\n",
      " 6.15687630e-03 4.49858418e-03 4.04232004e-03 3.48494730e-03\n",
      " 3.17461573e-03 2.80143143e-03 2.65357871e-03 2.49737653e-03\n",
      " 2.13976083e-03 1.99461286e-03 1.84886339e-03 1.73232058e-03\n",
      " 1.41167871e-03 1.31808403e-03 1.22764885e-03 1.12653220e-03\n",
      " 1.09698605e-03 1.02672885e-03 9.82603645e-04 8.60272704e-04\n",
      " 8.05769548e-04 7.31301600e-04 6.66777885e-04 6.21146965e-04\n",
      " 5.84153089e-04 5.15746400e-04 4.63061936e-04 4.35182699e-04\n",
      " 4.19490280e-04 3.98515767e-04 3.80851347e-04 3.72760426e-04\n",
      " 3.51658508e-04 3.06306454e-04 2.84327113e-04 2.72387069e-04\n",
      " 2.40524337e-04 2.34615061e-04 2.16419351e-04 2.09459982e-04\n",
      " 1.82495605e-04 1.67625114e-04 1.55016308e-04 1.48256854e-04\n",
      " 1.45161711e-04 1.36263686e-04 1.16572796e-04 1.05914562e-04\n",
      " 9.87623600e-05 9.12815998e-05 8.82898295e-05 8.35232965e-05\n",
      " 7.90639481e-05 6.95380656e-05 6.78906152e-05 6.09424892e-05\n",
      " 5.26612819e-05 5.01272033e-05 4.94213027e-05 4.16525333e-05\n",
      " 3.71614591e-05 2.91809830e-05]\n"
     ]
    }
   ],
   "source": [
    "print(\"EIGEN VALUES --> \",_EigVals)"
   ]
  },
  {
   "cell_type": "code",
   "execution_count": 15,
   "id": "ce27512b",
   "metadata": {},
   "outputs": [
    {
     "name": "stdout",
     "output_type": "stream",
     "text": [
      "EIGEN VECTORS -->  [[-0.13100049  0.06285489  0.14701312 ...  0.15230502 -0.14153136\n",
      "  -0.2533547 ]\n",
      " [-0.16883043 -0.05836495 -0.09357332 ...  0.10344084 -0.06882449\n",
      "   0.01347445]\n",
      " [-0.13101386  0.0633448   0.14727996 ... -0.13756554  0.24697727\n",
      "   0.57370803]\n",
      " ...\n",
      " [ 0.06541976 -0.07656289  0.15006889 ... -0.00780841 -0.00502825\n",
      "  -0.00081992]\n",
      " [ 0.09099747  0.10353127 -0.09308224 ... -0.00314146 -0.08253609\n",
      "   0.02679007]\n",
      " [ 0.06166266 -0.07503708  0.14923162 ...  0.00259705  0.0081485\n",
      "  -0.00604686]]\n"
     ]
    }
   ],
   "source": [
    "print(\"EIGEN VECTORS --> \",_EigVec)"
   ]
  },
  {
   "cell_type": "code",
   "execution_count": 7,
   "id": "c3bf7f42",
   "metadata": {},
   "outputs": [
    {
     "name": "stdout",
     "output_type": "stream",
     "text": [
      "PC TABLE --> \n"
     ]
    },
    {
     "data": {
      "text/html": [
       "<div>\n",
       "<style scoped>\n",
       "    .dataframe tbody tr th:only-of-type {\n",
       "        vertical-align: middle;\n",
       "    }\n",
       "\n",
       "    .dataframe tbody tr th {\n",
       "        vertical-align: top;\n",
       "    }\n",
       "\n",
       "    .dataframe thead th {\n",
       "        text-align: right;\n",
       "    }\n",
       "</style>\n",
       "<table border=\"1\" class=\"dataframe\">\n",
       "  <thead>\n",
       "    <tr style=\"text-align: right;\">\n",
       "      <th></th>\n",
       "      <th>Principal Component -1</th>\n",
       "      <th>Principal Component -2</th>\n",
       "      <th>Y_col</th>\n",
       "    </tr>\n",
       "  </thead>\n",
       "  <tbody>\n",
       "    <tr>\n",
       "      <th>61</th>\n",
       "      <td>0.453196</td>\n",
       "      <td>-3.456530</td>\n",
       "      <td>3</td>\n",
       "    </tr>\n",
       "    <tr>\n",
       "      <th>189</th>\n",
       "      <td>-4.964112</td>\n",
       "      <td>-8.332198</td>\n",
       "      <td>8</td>\n",
       "    </tr>\n",
       "    <tr>\n",
       "      <th>249</th>\n",
       "      <td>-5.748476</td>\n",
       "      <td>4.966405</td>\n",
       "      <td>11</td>\n",
       "    </tr>\n",
       "    <tr>\n",
       "      <th>95</th>\n",
       "      <td>5.460189</td>\n",
       "      <td>-5.624988</td>\n",
       "      <td>4</td>\n",
       "    </tr>\n",
       "    <tr>\n",
       "      <th>97</th>\n",
       "      <td>2.044911</td>\n",
       "      <td>6.247680</td>\n",
       "      <td>5</td>\n",
       "    </tr>\n",
       "  </tbody>\n",
       "</table>\n",
       "</div>"
      ],
      "text/plain": [
       "     Principal Component -1  Principal Component -2  Y_col\n",
       "61                 0.453196               -3.456530      3\n",
       "189               -4.964112               -8.332198      8\n",
       "249               -5.748476                4.966405     11\n",
       "95                 5.460189               -5.624988      4\n",
       "97                 2.044911                6.247680      5"
      ]
     },
     "execution_count": 7,
     "metadata": {},
     "output_type": "execute_result"
    }
   ],
   "source": [
    "print(\"PC TABLE --> \")\n",
    "df = pd.DataFrame(PCtable)  \n",
    "df.style.set_table_styles([{'selector' : '', 'props' : [('border','10px solid yellow')]}])\n",
    "# df.head()\n",
    "df.sample(n=5)"
   ]
  },
  {
   "cell_type": "code",
   "execution_count": 16,
   "id": "35d8075e",
   "metadata": {},
   "outputs": [
    {
     "data": {
      "text/plain": [
       "array([21.11374555, 18.9491506 , 16.12252029, 11.6711225 ,  5.51957859])"
      ]
     },
     "execution_count": 16,
     "metadata": {},
     "output_type": "execute_result"
    }
   ],
   "source": [
    "_EigVals[:5]"
   ]
  },
  {
   "cell_type": "code",
   "execution_count": 18,
   "id": "6ec74c95",
   "metadata": {},
   "outputs": [
    {
     "data": {
      "text/plain": [
       "array([[-0.13100049,  0.06285489],\n",
       "       [-0.16883043, -0.05836495],\n",
       "       [-0.13101386,  0.0633448 ],\n",
       "       [-0.16894926, -0.05771133],\n",
       "       [-0.13080585,  0.06406005],\n",
       "       [-0.16920394, -0.05726793],\n",
       "       [-0.13028915,  0.0653034 ],\n",
       "       [-0.16918225, -0.05637093],\n",
       "       [-0.12908567,  0.0682938 ],\n",
       "       [-0.16859531, -0.05521272],\n",
       "       [-0.12666549,  0.07248751],\n",
       "       [-0.16838881, -0.05362425],\n",
       "       [-0.12312866,  0.07728229],\n",
       "       [-0.16758967, -0.05224366],\n",
       "       [-0.11861928,  0.08166294],\n",
       "       [-0.16614566, -0.05098737],\n",
       "       [-0.11315534,  0.08580203],\n",
       "       [-0.16355964, -0.05101697],\n",
       "       [-0.10703809,  0.08958811],\n",
       "       [-0.15857323, -0.05282087],\n",
       "       [-0.10216234,  0.0935039 ],\n",
       "       [-0.15056251, -0.05491426],\n",
       "       [-0.09869556,  0.09772061],\n",
       "       [-0.14191143, -0.05759001],\n",
       "       [-0.09720534,  0.10258617],\n",
       "       [-0.13257648, -0.06002047],\n",
       "       [-0.09714193,  0.10835138],\n",
       "       [-0.12831637, -0.06381206],\n",
       "       [-0.09870956,  0.11512076],\n",
       "       [-0.1274844 , -0.06817026],\n",
       "       [-0.102151  ,  0.12260058],\n",
       "       [-0.13063249, -0.07272064],\n",
       "       [-0.10733621,  0.13006737],\n",
       "       [-0.13490049, -0.07408999],\n",
       "       [-0.11315471,  0.1369203 ],\n",
       "       [-0.13914889, -0.07495206],\n",
       "       [-0.11713298,  0.14299047],\n",
       "       [-0.13907222, -0.07642617],\n",
       "       [-0.11715714,  0.1470732 ],\n",
       "       [-0.13484265, -0.07684056],\n",
       "       [-0.11359835,  0.147785  ],\n",
       "       [-0.12719904, -0.07624315],\n",
       "       [-0.10649874,  0.14543578],\n",
       "       [-0.11923089, -0.07590453],\n",
       "       [-0.09639942,  0.14230806],\n",
       "       [-0.10989966, -0.07539117],\n",
       "       [-0.0845208 ,  0.14063101],\n",
       "       [-0.09814835, -0.0761589 ],\n",
       "       [-0.07206383,  0.1411051 ],\n",
       "       [-0.08490884, -0.07680737],\n",
       "       [-0.05963593,  0.14408602],\n",
       "       [-0.06943891, -0.07702427],\n",
       "       [-0.0475892 ,  0.14844067],\n",
       "       [-0.05399568, -0.0788206 ],\n",
       "       [-0.03491857,  0.1549595 ],\n",
       "       [-0.03743277, -0.08106716],\n",
       "       [-0.02108849,  0.16221162],\n",
       "       [-0.02104027, -0.08449465],\n",
       "       [-0.00575805,  0.16900751],\n",
       "       [-0.00450591, -0.08743519],\n",
       "       [ 0.01051857,  0.17329693],\n",
       "       [ 0.01070506, -0.08969195],\n",
       "       [ 0.02625812,  0.17355648],\n",
       "       [ 0.02437128, -0.09339596],\n",
       "       [ 0.03999904,  0.17029297],\n",
       "       [ 0.03734292, -0.09617373],\n",
       "       [ 0.05159341,  0.16514043],\n",
       "       [ 0.04881703, -0.09731742],\n",
       "       [ 0.06195077,  0.15933799],\n",
       "       [ 0.05707319, -0.09789034],\n",
       "       [ 0.07086031,  0.15352511],\n",
       "       [ 0.06302898, -0.09687334],\n",
       "       [ 0.07851574,  0.1484234 ],\n",
       "       [ 0.06765634, -0.09578815],\n",
       "       [ 0.08520011,  0.14399349],\n",
       "       [ 0.07094614, -0.09435019],\n",
       "       [ 0.09151517,  0.13946126],\n",
       "       [ 0.07378335, -0.0922049 ],\n",
       "       [ 0.09666538,  0.13443301],\n",
       "       [ 0.07504031, -0.08966167],\n",
       "       [ 0.0998862 ,  0.12916896],\n",
       "       [ 0.0738319 , -0.08671028],\n",
       "       [ 0.10070715,  0.12294195],\n",
       "       [ 0.07206587, -0.08375167],\n",
       "       [ 0.09862715,  0.11674561],\n",
       "       [ 0.06907096, -0.07970994],\n",
       "       [ 0.09515977,  0.11027868],\n",
       "       [ 0.06541976, -0.07656289],\n",
       "       [ 0.09099747,  0.10353127],\n",
       "       [ 0.06166266, -0.07503708]])"
      ]
     },
     "execution_count": 18,
     "metadata": {},
     "output_type": "execute_result"
    }
   ],
   "source": [
    "components = 2\n",
    "(_EigVec[:,0:components])"
   ]
  },
  {
   "cell_type": "code",
   "execution_count": 10,
   "id": "440d53fa",
   "metadata": {},
   "outputs": [
    {
     "data": {
      "image/png": "[encoded data removed]",
      "text/plain": [
       "<Figure size 576x504 with 1 Axes>"
      ]
     },
     "metadata": {
      "needs_background": "light"
     },
     "output_type": "display_data"
    }
   ],
   "source": [
    "pcaInst.plotResults(PCtable) # plot results"
   ]
  },
  {
   "cell_type": "code",
   "execution_count": null,
   "id": "a4e07d0e",
   "metadata": {},
   "outputs": [],
   "source": [
    "# Uncomment this to run for all Libras Datasets\n",
    "# for dataset in Datasets_dirs:\n",
    "#     print(\"DATASET IS : \",dataset)\n",
    "        \n",
    "#     prepareDataInst = prepareData(dataset, False) # instance of data preparation class\n",
    "#     X, Y = prepareDataInst.load_dataset()\n",
    "#     _X = prepareDataInst.std_dataset(X)\n",
    "#     pcaInst = PCA(Datasets_dirs[0], 2, False) # instance of PCA class\n",
    "#     _X_reduced, _EigVals, _EigVec = pcaInst.compute(_X) # Compute function has steps involved in PCA implementation\n",
    "#     PCtable = pcaInst.displayPC_Table(_X_reduced, Y)\n",
    "#     pcaInst.plotResults(PCtable) # plot results"
   ]
  },
  {
   "cell_type": "markdown",
   "id": "9e216695",
   "metadata": {},
   "source": [
    "This way PCA helps to reduce dimension of dataset which can make computation faster for ML models due to less parameters\n",
    "and provides us with the top appropriate columns of the data that define it well."
   ]
  }
 ],
 "metadata": {
  "kernelspec": {
   "display_name": "Python 3",
   "language": "python",
   "name": "python3"
  },
  "language_info": {
   "codemirror_mode": {
    "name": "ipython",
    "version": 3
   },
   "file_extension": ".py",
   "mimetype": "text/x-python",
   "name": "python",
   "nbconvert_exporter": "python",
   "pygments_lexer": "ipython3",
   "version": "3.9.5"
  }
 },
 "nbformat": 4,
 "nbformat_minor": 5
}
